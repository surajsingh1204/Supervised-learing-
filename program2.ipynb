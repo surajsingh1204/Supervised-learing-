{
  "nbformat": 4,
  "nbformat_minor": 0,
  "metadata": {
    "colab": {
      "provenance": [],
      "authorship_tag": "ABX9TyNrfCfwpUFz/9Oe+l/AY93q",
      "include_colab_link": true
    },
    "kernelspec": {
      "name": "python3",
      "display_name": "Python 3"
    },
    "language_info": {
      "name": "python"
    }
  },
  "cells": [
    {
      "cell_type": "markdown",
      "metadata": {
        "id": "view-in-github",
        "colab_type": "text"
      },
      "source": [
        "<a href=\"https://colab.research.google.com/github/surajsingh1204/Supervised-learing-/blob/main/program2.ipynb\" target=\"_parent\"><img src=\"https://colab.research.google.com/assets/colab-badge.svg\" alt=\"Open In Colab\"/></a>"
      ]
    },
    {
      "cell_type": "code",
      "execution_count": 1,
      "metadata": {
        "colab": {
          "base_uri": "https://localhost:8080/"
        },
        "id": "QHXRCgHoYW5R",
        "outputId": "c43c7cbe-c52f-4e84-f894-8e4b4b40e0c1"
      },
      "outputs": [
        {
          "output_type": "stream",
          "name": "stdout",
          "text": [
            "For w = 2: MAE = 70.28571428571429, MSE =7253.428571428572\n"
          ]
        }
      ],
      "source": [
        "#write a python program to calculate mean squre and mean absolute eeror.\n",
        "import numpy as np\n",
        "overs = np.array([3,6,9,12,15,18,20])\n",
        "actual_runs = np.array([15,28,63,90,120,152,190])\n",
        "weights = [2]\n",
        "def calculate_mae_mse(overs, actual_runs, w):\n",
        "    predicted_runs = w*overs\n",
        "    mae = np.mean(np.abs(predicted_runs - actual_runs))\n",
        "    mse = np.mean((predicted_runs - actual_runs)**2)\n",
        "    return mae, mse\n",
        "for w in weights:\n",
        "    mae, mse = calculate_mae_mse(overs, actual_runs, w)\n",
        "    print(f\"For w = {w}: MAE = {mae}, MSE ={mse}\")\n"
      ]
    }
  ]
}